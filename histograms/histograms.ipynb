{
 "cells": [
  {
   "cell_type": "markdown",
   "metadata": {},
   "source": [
    "# Histograms of minor allele frequencies\n",
    "\n",
    "This notebook creates histograms for the MAF for a subset of variants from chromosomes 20, 21, and 22. \n",
    "\n",
    "The frequencies were calculated using plink, on Pegasus. "
   ]
  },
  {
   "cell_type": "code",
   "execution_count": 1,
   "metadata": {
    "collapsed": true
   },
   "outputs": [],
   "source": [
    "import numpy as np\n",
    "import pandas\n",
    "import seaborn\n",
    "import matplotlib.pyplot as plt"
   ]
  },
  {
   "cell_type": "markdown",
   "metadata": {},
   "source": [
    "### Read in frequency files"
   ]
  },
  {
   "cell_type": "code",
   "execution_count": 17,
   "metadata": {
    "collapsed": true
   },
   "outputs": [],
   "source": [
    "chr20 = pandas.read_table(\"chr_20_frequencies.frq\", delim_whitespace=True)\n",
    "chr21 = pandas.read_table(\"chr_21_frequencies.frq\", delim_whitespace=True)\n",
    "chr22 = pandas.read_table(\"chr_22_frequencies.frq\", delim_whitespace=True)"
   ]
  },
  {
   "cell_type": "markdown",
   "metadata": {},
   "source": [
    "### Create histograms"
   ]
  },
  {
   "cell_type": "markdown",
   "metadata": {},
   "source": [
    "First, let's get some basic stats about our files. "
   ]
  },
  {
   "cell_type": "code",
   "execution_count": 23,
   "metadata": {
    "collapsed": false
   },
   "outputs": [
    {
     "name": "stdout",
     "output_type": "stream",
     "text": [
      "Chromosome 20 has 18038 variants.\n",
      "Chromosome 21 has 10991 variants.\n",
      "Chromosome 22 has 10972 variants.\n"
     ]
    }
   ],
   "source": [
    "print(\"Chromosome 20 has \" + str(chr20.shape[0]) + \" variants.\")\n",
    "print(\"Chromosome 21 has \" + str(chr21.shape[0]) + \" variants.\")\n",
    "print(\"Chromosome 22 has \" + str(chr22.shape[0]) + \" variants.\")"
   ]
  },
  {
   "cell_type": "code",
   "execution_count": 45,
   "metadata": {
    "collapsed": false
   },
   "outputs": [
    {
     "data": {
      "image/png": "[encoded data removed]",
      "text/plain": [
       "<matplotlib.figure.Figure at 0x11dba47f0>"
      ]
     },
     "metadata": {},
     "output_type": "display_data"
    },
    {
     "data": {
      "image/png": "[encoded data removed]",
      "text/plain": [
       "<matplotlib.figure.Figure at 0x11ec517f0>"
      ]
     },
     "metadata": {},
     "output_type": "display_data"
    },
    {
     "data": {
      "image/png": "[encoded data removed]",
      "text/plain": [
       "<matplotlib.figure.Figure at 0x11e72fbe0>"
      ]
     },
     "metadata": {},
     "output_type": "display_data"
    }
   ],
   "source": [
    "def plot_chr(df, title, y_upper_limit):\n",
    "    plot = seaborn.distplot(df['MAF'], kde=False)\n",
    "    plot.set_title(title)\n",
    "    plot.set(ylim=(0, y_upper_limit))\n",
    "    return plot\n",
    "\n",
    "\n",
    "plot_chr(chr20, \"Chromosome 20\", 1000)\n",
    "plt.show()\n",
    "\n",
    "plot_chr(chr21, \"Chromosome 21\", 1000)\n",
    "plt.show()\n",
    "\n",
    "plot_chr(chr22, \"Chromosome 22\", 1000)\n",
    "plt.show()"
   ]
  }
 ],
 "metadata": {
  "anaconda-cloud": {},
  "kernelspec": {
   "display_name": "Python [conda env:anaconda3]",
   "language": "python",
   "name": "conda-env-anaconda3-py"
  },
  "language_info": {
   "codemirror_mode": {
    "name": "ipython",
    "version": 3
   },
   "file_extension": ".py",
   "mimetype": "text/x-python",
   "name": "python",
   "nbconvert_exporter": "python",
   "pygments_lexer": "ipython3",
   "version": "3.5.2"
  }
 },
 "nbformat": 4,
 "nbformat_minor": 1
}
